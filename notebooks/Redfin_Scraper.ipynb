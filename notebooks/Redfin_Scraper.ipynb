{
 "cells": [
  {
   "cell_type": "markdown",
   "id": "09ab8639-10ff-4d49-8a58-a2ed85fea1fa",
   "metadata": {},
   "source": [
    "# Objective\n",
    "\n",
    "Scrape property listings from Redfin.com and extract a range of essential details, including prices, addresses, beds/baths, images, and geo-coordinates. Store the data in CSV Files\n",
    "\n",
    "## Target URL\n",
    "\n",
    "https://www.redfin.com/neighborhood/547223/CA/Los-Angeles/Hollywood-Hills\n",
    "\n",
    "## Approach\n",
    "\n",
    "- Consolidate relevant scripts from 'Redfin_Scraping_Experiment.ipynb' into a full and independent Notebook\n"
   ]
  },
  {
   "cell_type": "markdown",
   "id": "f9fe103c-5fac-4b8a-b748-cbcff45af657",
   "metadata": {},
   "source": [
    "### Import necessary libraries"
   ]
  },
  {
   "cell_type": "code",
   "execution_count": 1,
   "id": "14996b03-0505-4242-a9b7-89ed316decb3",
   "metadata": {},
   "outputs": [],
   "source": [
    "import os                          # for directory manipulation\n",
    "import time                        # for time computation\n",
    "import json\n",
    "import random\n",
    "import re\n",
    "\n",
    "from selenium import webdriver\n",
    "from selenium.webdriver.chrome.service import Service\n",
    "from selenium.webdriver.common.by import By\n",
    "from selenium.webdriver.chrome.options import Options\n",
    "from webdriver_manager.chrome import ChromeDriverManager\n",
    "import pandas as pd                # for DataFrame manipulation\n"
   ]
  },
  {
   "cell_type": "markdown",
   "id": "dd7945bb-42de-4916-aa96-5f67b6b59fc3",
   "metadata": {},
   "source": [
    "### Configure chrome driver"
   ]
  },
  {
   "cell_type": "code",
   "execution_count": 2,
   "id": "b184146f-a72f-4f37-a155-7c8c73a96290",
   "metadata": {},
   "outputs": [],
   "source": [
    "def init_chrome_driver():\n",
    "    \n",
    "    chrome_options = Options()\n",
    "    chrome_options.add_argument(\" - headless\")\n",
    "    service = Service(ChromeDriverManager().install())\n",
    "    driver = webdriver.Chrome(service=service, options=chrome_options)\n",
    "    \n",
    "    return driver"
   ]
  },
  {
   "cell_type": "markdown",
   "id": "ea80479c-897f-4944-8455-bac25be4ac41",
   "metadata": {},
   "source": [
    "### Define Target Url"
   ]
  },
  {
   "cell_type": "code",
   "execution_count": 3,
   "id": "f7a0ced9-6bf4-4ea2-ba7a-b4fd653aac22",
   "metadata": {},
   "outputs": [],
   "source": [
    "# Redfin search URL for Hollywood Hills, Los Angeles\n",
    "base_url = \"https://www.redfin.com/neighborhood/547223/CA/Los-Angeles/Hollywood-Hills\""
   ]
  },
  {
   "cell_type": "markdown",
   "id": "fa474f97-dfaf-42bf-8fe1-5196b1e0e3ec",
   "metadata": {},
   "source": [
    "### Initialize chrome driver"
   ]
  },
  {
   "cell_type": "code",
   "execution_count": 4,
   "id": "aef49512-1bbf-43bc-b888-e129b8465bd0",
   "metadata": {},
   "outputs": [],
   "source": [
    "driver = init_chrome_driver()"
   ]
  },
  {
   "cell_type": "markdown",
   "id": "2428d0b9-4d5a-43af-89c6-b3820a16d07f",
   "metadata": {},
   "source": [
    "### Main script"
   ]
  },
  {
   "cell_type": "code",
   "execution_count": 5,
   "id": "fdb7c5aa-3aff-40ec-bf58-3e39fc692a88",
   "metadata": {},
   "outputs": [
    {
     "name": "stdout",
     "output_type": "stream",
     "text": [
      "Scraping page 1...\n",
      "Found 44 listings on page 1\n",
      "Skipping a listing due to missing address data\n",
      "Skipping a listing due to missing address data\n",
      "Skipping a listing due to missing address data\n",
      "Scraping page 2...\n",
      "Found 44 listings on page 2\n",
      "Skipping a listing due to missing address data\n",
      "Skipping a listing due to missing address data\n",
      "Skipping a listing due to missing address data\n",
      "Scraping page 3...\n",
      "Found 44 listings on page 3\n",
      "Skipping a listing due to missing address data\n",
      "Skipping a listing due to missing address data\n",
      "Skipping a listing due to missing address data\n",
      "Scraping page 4...\n",
      "Found 44 listings on page 4\n",
      "Skipping a listing due to missing address data\n",
      "Skipping a listing due to missing address data\n",
      "Skipping a listing due to missing address data\n",
      "Scraping page 5...\n",
      "Found 44 listings on page 5\n",
      "Skipping a listing due to missing address data\n",
      "Skipping a listing due to missing address data\n",
      "Skipping a listing due to missing address data\n",
      "Scraping page 6...\n",
      "Found 44 listings on page 6\n",
      "Skipping a listing due to missing address data\n",
      "Skipping a listing due to missing address data\n",
      "Skipping a listing due to missing address data\n",
      "Scraping page 7...\n",
      "Found 10 listings on page 7\n",
      "Skipping a listing due to missing address data\n",
      "✅ No more pages.\n"
     ]
    }
   ],
   "source": [
    "# Initialize data storage\n",
    "scraped_data = []\n",
    "\n",
    "page_number = 1\n",
    "while True:\n",
    "    print(f\"Scraping page {page_number}...\")\n",
    "\n",
    "    url = base_url if page_number == 1 else f\"{base_url}/page-{page_number}\"\n",
    "    driver.get(url)\n",
    "    time.sleep(random.uniform(5, 8))\n",
    "\n",
    "    # Locate the main listings container\n",
    "    try:\n",
    "        container = driver.find_element(\"css selector\", \"div.HomeCardsContainer\")\n",
    "        listings = container.find_elements(\"css selector\", \"div.HomeCardContainer\")\n",
    "    except:\n",
    "        print(\"Failed to locate the property list container. Exiting...\")\n",
    "        break\n",
    "\n",
    "    print(f\"Found {len(listings)} listings on page {page_number}\")\n",
    "\n",
    "    for listing in listings:\n",
    "        # Extract price\n",
    "        try:\n",
    "            price = listing.find_element(\"css selector\", \"span.bp-Homecard__Price--value\").text.strip()\n",
    "        except:\n",
    "            price = \"N/A\"\n",
    "\n",
    "        # Extract address\n",
    "        try:\n",
    "            address = listing.find_element(\"css selector\", \"div.bp-Homecard__Address\").text.strip()\n",
    "        except:\n",
    "            print(\"Skipping a listing due to missing address data\")\n",
    "            continue  # Skip listings with missing elements\n",
    "\n",
    "        # Extract beds, baths, and sqft\n",
    "        try:\n",
    "            beds = listing.find_element(\"css selector\", \"span.bp-Homecard__Stats--beds\").text.strip()\n",
    "        except:\n",
    "            beds = \"N/A\"\n",
    "\n",
    "        try:\n",
    "            baths = listing.find_element(\"css selector\", \"span.bp-Homecard__Stats--baths\").text.strip()\n",
    "        except:\n",
    "            baths = \"N/A\"\n",
    "\n",
    "        try:\n",
    "            sqft = listing.find_element(\"css selector\", \"span.bp-Homecard__LockedStat--value\").text.strip()\n",
    "        except:\n",
    "            sqft = \"N/A\"\n",
    "\n",
    "        # Extract listing link and listing id\n",
    "        try:\n",
    "            link = listing.find_element(\"css selector\", \"a.bp-Homecard\").get_attribute(\"href\")\n",
    "            link = f\"https://www.redfin.com{link}\" if link.startswith(\"/\") else link\n",
    "    \n",
    "            # Extract ID after /home/\n",
    "            match = re.search(r'/home/(\\d+)', link)\n",
    "            if match:\n",
    "                listing_id = match.group(1)\n",
    "            else:\n",
    "                listing_id = \"N/A\"\n",
    "    \n",
    "        except:\n",
    "            print(\"Skipping a listing due to missing link data\")\n",
    "            continue  # Skip listings with missing elements\n",
    "\n",
    "        # Extract image URL\n",
    "        try:\n",
    "            image_element = listing.find_element(\"css selector\", \"img.bp-Homecard__Photo--image\")\n",
    "            image_url = image_element.get_attribute(\"src\")\n",
    "        except:\n",
    "            image_url = \"N/A\"\n",
    "        \n",
    "        try:\n",
    "            # Extract Geo-Coordinates (Latitude & Longitude)\n",
    "            json_script = listing.find_element(By.CSS_SELECTOR, \"script[type='application/ld+json']\").get_attribute(\"innerHTML\")\n",
    "            json_data = json.loads(json_script)\n",
    "\n",
    "            # Sometimes it's a dict, sometimes a list of dicts\n",
    "            if isinstance(json_data, list):\n",
    "                geo_data = next((item.get(\"geo\") for item in json_data if item.get(\"geo\")), None)\n",
    "            else:\n",
    "                geo_data = json_data.get(\"geo\")\n",
    "\n",
    "            if geo_data:\n",
    "                latitude = geo_data.get(\"latitude\", \"N/A\")\n",
    "                longitude = geo_data.get(\"longitude\", \"N/A\")\n",
    "            else:\n",
    "                latitude = \"N/A\"\n",
    "                longitude = \"N/A\"\n",
    "        except Exception as e:\n",
    "            print(f\"⚠️ Failed to extract geo-coordinates: {e}\")\n",
    "            latitude = \"N/A\"\n",
    "            longitude = \"N/A\"\n",
    "\n",
    "        # Store the data\n",
    "        scraped_data.append({\n",
    "            \"Listing ID\": listing_id,\n",
    "            \"Price\": price,\n",
    "            \"Address\": address,\n",
    "            \"Beds\": beds,\n",
    "            \"Baths\": baths,\n",
    "            \"SqFt\": sqft,\n",
    "            \"Link\": link,\n",
    "            \"Image URL\": image_url, \n",
    "            \"Latitude\": latitude,\n",
    "            \"Longitude\": longitude\n",
    "        })\n",
    "\n",
    "    # Try going to the next page by checking if the next-page anchor exists\n",
    "    try:\n",
    "        next_page_anchor = driver.find_element(By.CSS_SELECTOR, \"a[aria-label='page {}']\".format(page_number + 1))\n",
    "        if next_page_anchor:\n",
    "            page_number += 1\n",
    "            time.sleep(random.uniform(3, 6))\n",
    "        else:\n",
    "            break\n",
    "    except:\n",
    "        print(\"✅ No more pages.\")\n",
    "        break\n"
   ]
  },
  {
   "cell_type": "markdown",
   "id": "7961229c-d27e-4eb8-ab17-63b5f4062d38",
   "metadata": {},
   "source": [
    "### Convert scraped_data list to DataFrame and save as CSV file in ../data/raw"
   ]
  },
  {
   "cell_type": "code",
   "execution_count": 6,
   "id": "6ce4e6e7-9271-45ef-9891-e999636e44ed",
   "metadata": {},
   "outputs": [
    {
     "name": "stdout",
     "output_type": "stream",
     "text": [
      "Scraping complete! 255 listings saved to C:\\Users\\HP\\Desktop\\MyWorkSpace\\property-pulse\\data\\raw\\redfin_hollywood_hills.csv\n"
     ]
    }
   ],
   "source": [
    "# Convert scraped_data list to DataFrame\n",
    "df = pd.DataFrame(scraped_data)\n",
    "\n",
    "# Get the directory of the script's location, assumed here to be '../notebooks' and to be on the same folder level \n",
    "# with '../data'\n",
    "script_dir = os.getcwd()\n",
    "# Please note that os.getcwd() depends on the current working directory, which might not always align with the script's \n",
    "# location  \n",
    "\n",
    "# Navigate to the parent folder\n",
    "parent_dir = os.path.abspath(os.path.join(script_dir, \"..\"))\n",
    "\n",
    "# Construct the path to the desired relative location - ../data/raw/{filename}.csv\n",
    "path_to_file = os.path.join(parent_dir, \"data\", \"raw\", \"redfin_hollywood_hills.csv\")\n",
    "\n",
    "# Save the scraped dataset as CSV\n",
    "df.to_csv(path_to_file,index=False)\n",
    "\n",
    "print(f\"Scraping complete! {len(df)} listings saved to {path_to_file}\")"
   ]
  },
  {
   "cell_type": "markdown",
   "id": "ca921750-c347-4635-9315-af3c8f75ae10",
   "metadata": {},
   "source": [
    "### Close the browser"
   ]
  },
  {
   "cell_type": "code",
   "execution_count": 7,
   "id": "cc7e3b9e-f423-4327-a8d3-b443d9113656",
   "metadata": {},
   "outputs": [],
   "source": [
    "driver.quit()"
   ]
  }
 ],
 "metadata": {
  "kernelspec": {
   "display_name": "Python [conda env:base] *",
   "language": "python",
   "name": "conda-base-py"
  },
  "language_info": {
   "codemirror_mode": {
    "name": "ipython",
    "version": 3
   },
   "file_extension": ".py",
   "mimetype": "text/x-python",
   "name": "python",
   "nbconvert_exporter": "python",
   "pygments_lexer": "ipython3",
   "version": "3.12.7"
  }
 },
 "nbformat": 4,
 "nbformat_minor": 5
}
